{
  "nbformat": 4,
  "nbformat_minor": 0,
  "metadata": {
    "colab": {
      "provenance": []
    },
    "kernelspec": {
      "name": "python3",
      "display_name": "Python 3"
    },
    "language_info": {
      "name": "python"
    },
    "accelerator": "GPU",
    "gpuClass": "standard"
  },
  "cells": [
    {
      "cell_type": "code",
      "execution_count": null,
      "metadata": {
        "colab": {
          "base_uri": "https://localhost:8080/"
        },
        "id": "A8cdlxwtpqhe",
        "outputId": "8ed85364-0966-4010-d983-4dba2b839bde"
      },
      "outputs": [
        {
          "output_type": "stream",
          "name": "stdout",
          "text": [
            "Cloning into 'FT-w2v2-ser'...\n",
            "remote: Enumerating objects: 166, done.\u001b[K\n",
            "remote: Counting objects: 100% (166/166), done.\u001b[K\n",
            "remote: Compressing objects: 100% (118/118), done.\u001b[K\n",
            "remote: Total 166 (delta 64), reused 132 (delta 38), pack-reused 0\u001b[K\n",
            "Receiving objects: 100% (166/166), 160.08 KiB | 4.00 MiB/s, done.\n",
            "Resolving deltas: 100% (64/64), done.\n"
          ]
        }
      ],
      "source": [
        "!git clone https://github.com/himansh005/FT-w2v2-ser"
      ]
    },
    {
      "cell_type": "code",
      "source": [
        "\n",
        "!pip install -r /content/FT-w2v2-ser/essential_reqs.txt"
      ],
      "metadata": {
        "colab": {
          "base_uri": "https://localhost:8080/",
          "height": 1000
        },
        "id": "zK4fbuKpq3dq",
        "outputId": "01ff3d1d-cdbc-4ce9-8d4f-e07b00442575"
      },
      "execution_count": null,
      "outputs": [
        {
          "output_type": "stream",
          "name": "stdout",
          "text": [

          ]
        },
        {
          "output_type": "display_data",
          "data": {
            "application/vnd.colab-display-data+json": {
              "pip_warning": {
                "packages": [
                  "matplotlib",
                  "mpl_toolkits"
                ]
              }
            }
          },
          "metadata": {}
        }
      ]
    },
    {
      "cell_type": "code",
      "source": [
        "from google.colab import drive # Link your drive if you are a colab user\n",
        "drive.mount('/content/drive') "
      ],
      "metadata": {
        "colab": {
          "base_uri": "https://localhost:8080/"
        },
        "id": "NP9FLzAysPEv",
        "outputId": "889b4a39-5cb6-46cd-ac28-4f842cad6332"
      },
      "execution_count": null,
      "outputs": [
        {
          "output_type": "stream",
          "name": "stdout",
          "text": [
            "Mounted at /content/drive\n"
          ]
        }
      ]
    },
    {
      "cell_type": "code",
      "source": [
        "!ls\n",
        "%cd FT-w2v2-ser/\n",
        "!pip install transformers\n",
        "!pip install fairseq\n",
        "!sh /content/FT-w2v2-ser/run_contrastive_train.sh"
      ],
      "metadata": {
        "id": "zQtvKPSKt_9w",
        "colab": {
          "base_uri": "https://localhost:8080/"
        },
        "outputId": "653e9f2e-14e3-44dc-c98f-9a2d02c7e43f"
      },
      "execution_count": null,
      "outputs": [
        {
          "output_type": "stream",
          "name": "stdout",
          "text": [

          ]
        }
      ]
    },
    {
      "cell_type": "code",
      "source": [
        "%cd Dataset/IEMOCAP/\n"
      ],
      "metadata": {
        "colab": {
          "base_uri": "https://localhost:8080/"
        },
        "id": "gxoDuvp_tBno",
        "outputId": "f1ccc3a2-e192-496e-9565-9f181e90ee1e"
      },
      "execution_count": null,
      "outputs": [
        {
          "output_type": "stream",
          "name": "stdout",
          "text": [
            "/content/FT-w2v2-ser/Dataset/IEMOCAP\n"
          ]
        }
      ]
    },
    {
      "cell_type": "code",
      "source": [
        "!mkdir ESD"
      ],
      "metadata": {
        "id": "1nK-jSefulKP"
      },
      "execution_count": null,
      "outputs": []
    },
    {
      "cell_type": "code",
      "source": [
        "!ln -s /content/drive/MyDrive/LJSpeech/ESD/EmotionalSpeechDataset/00* ESD"
      ],
      "metadata": {
        "id": "qIxALBxxuNqy"
      },
      "execution_count": null,
      "outputs": []
    },
    {
      "cell_type": "code",
      "source": [
        "!ls"
      ],
      "metadata": {
        "colab": {
          "base_uri": "https://localhost:8080/"
        },
        "id": "NyeGh_oyuyWh",
        "outputId": "09007ae9-bec7-4836-fcbf-3e5ece6f32c6"
      },
      "execution_count": null,
      "outputs": [
        {
          "output_type": "stream",
          "name": "stdout",
          "text": [
            " ESD\t\t\t\t  gen_meta_label.py   make_16k.py\n",
            " generate_labels_sessionwise.py  'Icon'$'\\r'\n"
          ]
        }
      ]
    },
    {
      "cell_type": "code",
      "source": [
        "\n",
        "!python generate_labels_sessionwise.py ESD"
      ],
      "metadata": {
        "id": "KnrS91oMtib_"
      },
      "execution_count": null,
      "outputs": []
    },
    {
      "cell_type": "code",
      "source": [
        "%cd /content/FT-w2v2-ser"
      ],
      "metadata": {
        "colab": {
          "base_uri": "https://localhost:8080/"
        },
        "id": "Jua__1dCvJW2",
        "outputId": "0353ba4f-f382-4271-8603-92315c5e8250"
      },
      "execution_count": null,
      "outputs": [
        {
          "output_type": "stream",
          "name": "stdout",
          "text": [
            "/content/FT-w2v2-ser\n"
          ]
        }
      ]
    },
    {
      "cell_type": "code",
      "source": [
        "RUN_PATH = '/content/drive/MyDrive/IDLProject/run_1'\n",
        "OUTPUT_PATH = '/content/drive/MyDrive/IDLProject/outputs'"
      ],
      "metadata": {
        "id": "sFagot9OvT-F"
      },
      "execution_count": null,
      "outputs": []
    },
    {
      "cell_type": "code",
      "source": [
        "!python run_downstream_contrastive.py --precision 16 \\\n",
        "                                              --datadir /content/FT-w2v2-ser/Dataset/IEMOCAP \\\n",
        "                                              --labelpath /content/FT-w2v2-ser/Dataset/IEMOCAP/ESD/labels.json \\\n",
        "                                              --saving_path $RUN_PATH \\\n",
        "                                              --output_path $OUTPUT_PATH \\\n",
        "                                              --nworkers 4 \\\n",
        "                                              --batch_size 8 \\\n",
        "\t\t\t\t\t--xent_alpha 0.5"
      ],
      "metadata": {
        "colab": {
          "base_uri": "https://localhost:8080/"
        },
        "id": "j_ecmjxprA7K",
        "outputId": "3014056d-6247-47d8-a47c-b323f4f231b5"
      },
      "execution_count": null,
      "outputs": [
        {
          "output_type": "stream",
          "name": "stdout",
          "text": [
            "/content/FT-w2v2-ser\n",
            "Downloading: 100% 213/213 [00:00<00:00, 143kB/s]\n",
            "/usr/local/lib/python3.8/dist-packages/pytorch_lightning/core/lightning.py:22: LightningDeprecationWarning: pytorch_lightning.core.lightning.LightningModule has been deprecated in v1.7 and will be removed in v1.9. Use the equivalent class from the pytorch_lightning.core.module.LightningModule class instead.\n",
            "  rank_zero_deprecation(\n",
            "Statistics of training splits:\n",
            "----Involved Emotions----\n",
            "angry: 3000 examples\n",
            "happy: 3000 examples\n",
            "neutral: 3000 examples\n",
            "sad: 3000 examples\n",
            "surprise: 3000 examples\n",
            "Total 15000 examples\n",
            "----Examples Involved----\n",
            "\n",
            "Statistics of validation splits:\n",
            "----Involved Emotions----\n",
            "angry: 200 examples\n",
            "happy: 200 examples\n",
            "neutral: 200 examples\n",
            "sad: 200 examples\n",
            "surprise: 200 examples\n",
            "Total 1000 examples\n",
            "----Examples Involved----\n",
            "\n",
            "Statistics of testing splits:\n",
            "----Involved Emotions----\n",
            "angry: 300 examples\n",
            "happy: 300 examples\n",
            "neutral: 300 examples\n",
            "sad: 300 examples\n",
            "surprise: 300 examples\n",
            "Total 1500 examples\n",
            "----Examples Involved----\n",
            "\n",
            "Downloading: 100% 1.39k/1.39k [00:00<00:00, 1.18MB/s]\n",
            "Downloading: 100% 378M/378M [00:04<00:00, 93.5MB/s]\n",
            "Weigh losses by prior distribution of each class: tensor([0.2000, 0.2000, 0.2000, 0.2000, 0.2000]).\n",
            "GPU available: True (cuda), used: True\n",
            "TPU available: False, using: 0 TPU cores\n",
            "IPU available: False, using: 0 IPUs\n",
            "HPU available: False, using: 0 HPUs\n",
            "LOCAL_RANK: 0 - CUDA_VISIBLE_DEVICES: [0]\n",
            "\n",
            "  | Name             | Type                     | Params\n",
            "--------------------------------------------------------------\n",
            "0 | model            | PretrainedEmoFeatureHead | 94.4 M\n",
            "1 | xent_criterion   | CrossEntropyLoss         | 0     \n",
            "2 | metric_criterion | ContrastiveLoss          | 0     \n",
            "--------------------------------------------------------------\n",
            "94.4 M    Trainable params\n",
            "0         Non-trainable params\n",
            "94.4 M    Total params\n",
            "377.502   Total estimated model params size (MB)\n",
            "Sanity Checking: 0it [00:00, ?it/s]/usr/local/lib/python3.8/dist-packages/torch/utils/data/dataloader.py:563: UserWarning: This DataLoader will create 4 worker processes in total. Our suggested max number of worker in current system is 2, which is smaller than what this DataLoader is going to create. Please be aware that excessive worker creation might get DataLoader running slow or even freeze, lower the worker number to avoid potential slowness/freeze if necessary.\n",
            "  warnings.warn(_create_warning_msg(\n",
            "Sanity Checking DataLoader 0:   0% 0/2 [00:00<?, ?it/s]/content/FT-w2v2-ser/modules/FeatureFuser.py:302: UserWarning: __floordiv__ is deprecated, and its behavior will change in a future version of pytorch. It currently rounds toward 0 (like the 'trunc' function NOT 'floor'). This results in incorrect rounding for negative values. To keep the current behavior, use torch.div(a, b, rounding_mode='trunc'), or for actual floor division, use torch.div(a, b, rounding_mode='floor').\n",
            "  return (input_length - kernel_size) // stride + 1\n",
            "/usr/local/lib/python3.8/dist-packages/pytorch_lightning/utilities/data.py:85: UserWarning: Trying to infer the `batch_size` from an ambiguous collection. The batch size we found is 8. To avoid any miscalculations, use `self.log(..., batch_size=batch_size)`.\n",
            "  warning_cache.warn(\n",
            "Sanity Checking DataLoader 0: 100% 2/2 [00:05<00:00,  2.95s/it]0.1\n",
            "Epoch 0:  12% 234/2000 [02:42<20:26,  1.44it/s, loss=0.672, v_num=8, xent_loss_step=0.947, metric_loss_step=0.560, total_train_loss_step=0.753]/usr/local/lib/python3.8/dist-packages/pytorch_lightning/trainer/call.py:48: UserWarning: Detected KeyboardInterrupt, attempting graceful shutdown...\n",
            "  rank_zero_warn(\"Detected KeyboardInterrupt, attempting graceful shutdown...\")\n",
            "LOCAL_RANK: 0 - CUDA_VISIBLE_DEVICES: [0]\n",
            "Testing DataLoader 0: 100% 1500/1500 [02:04<00:00, 12.09it/s]++++ Classification Metrics ++++\n",
            "                  UAR: 0.4420\n",
            "                  WAR: 0.4420\n",
            "                  macroF1: 0.4119\n",
            "                  microF1: 0.5078\n",
            "Testing DataLoader 0: 100% 1500/1500 [02:04<00:00, 12.09it/s]\n",
            "────────────────────────────────────────────────────────────────────────────────────────────────────────────────────────\n",
            "       Test metric             DataLoader 0\n",
            "────────────────────────────────────────────────────────────────────────────────────────────────────────────────────────\n",
            "        test_UAR            0.44200000166893005\n",
            "        test_WAR            0.44200000166893005\n",
            "      test_macroF1          0.41185760498046875\n",
            "      test_microF1          0.5077858454958379\n",
            "────────────────────────────────────────────────────────────────────────────────────────────────────────────────────────\n",
            "+++ SUMMARY +++\n",
            "Mean UAR [%]: 44.20\n",
            "Std. UAR [%]: 0.00\n",
            "Mean WAR [%]: 44.20\n",
            "Std. WAR [%]: 0.00\n",
            "Mean macroF1 [%]: 41.19\n",
            "Std. macroF1 [%]: 0.00\n",
            "Mean microF1 [%]: 50.78\n",
            "Std. microF1 [%]: 0.00\n",
            "[[139.  18.  10. 130.   3.]\n",
            " [  9.  67.   0. 215.   9.]\n",
            " [  0.   0.   8. 292.   0.]\n",
            " [  0.   0.   0. 300.   0.]\n",
            " [  4.  83.   0.  64. 149.]]\n",
            "Saved figure to /content/drive/MyDrive/IDLProject/run_1/confmat.png.\n",
            "Traceback (most recent call last):\n",
            "  File \"run_downstream_contrastive.py\", line 95, in <module>\n",
            "    main()\n",
            "  File \"run_downstream_contrastive.py\", line 83, in main\n",
            "    trainer.checkpoint_connector.restore_model_weights(checkpoint_callback.best_model_path)\n",
            "AttributeError: 'Trainer' object has no attribute 'checkpoint_connector'\n",
            "Epoch 0:  12%|█▏        | 234/2000 [04:49<36:26,  1.24s/it, loss=0.672, v_num=8, xent_loss_step=0.947, metric_loss_step=0.560, total_train_loss_step=0.753]\n"
          ]
        }
      ]
    },
    {
      "cell_type": "code",
      "source": [],
      "metadata": {
        "id": "NuAdQRFfLW8V"
      },
      "execution_count": null,
      "outputs": []
    },
    {
      "cell_type": "code",
      "source": [],
      "metadata": {
        "id": "xzFxAozypR9f"
      },
      "execution_count": null,
      "outputs": []
    }
  ]
}
