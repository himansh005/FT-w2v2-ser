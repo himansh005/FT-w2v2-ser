{
  "nbformat": 4,
  "nbformat_minor": 0,
  "metadata": {
    "colab": {
      "provenance": []
    },
    "kernelspec": {
      "name": "python3",
      "display_name": "Python 3"
    },
    "language_info": {
      "name": "python"
    },
    "accelerator": "GPU",
    "gpuClass": "standard"
  },
  "cells": [
    {
      "cell_type": "code",
      "execution_count": null,
      "metadata": {
        "colab": {
          "base_uri": "https://localhost:8080/"
        },
        "id": "A8cdlxwtpqhe",
        "outputId": "8ed85364-0966-4010-d983-4dba2b839bde"
      },
      "outputs": [
        {
          "output_type": "stream",
          "name": "stdout",
          "text": [
            "Cloning into 'FT-w2v2-ser'...\n",
            "remote: Enumerating objects: 166, done.\u001b[K\n",
            "remote: Counting objects: 100% (166/166), done.\u001b[K\n",
            "remote: Compressing objects: 100% (118/118), done.\u001b[K\n",
            "remote: Total 166 (delta 64), reused 132 (delta 38), pack-reused 0\u001b[K\n",
            "Receiving objects: 100% (166/166), 160.08 KiB | 4.00 MiB/s, done.\n",
            "Resolving deltas: 100% (64/64), done.\n"
          ]
        }
      ],
      "source": [
        "!git clone https://github.com/himansh005/FT-w2v2-ser"
      ]
    },
    {
      "cell_type": "code",
      "source": [
        "\n",
        "!pip install -r /content/FT-w2v2-ser/essential_reqs.txt"
      ],
      "metadata": {
        "colab": {
          "base_uri": "https://localhost:8080/",
          "height": 1000
        },
        "id": "zK4fbuKpq3dq",
        "outputId": "01ff3d1d-cdbc-4ce9-8d4f-e07b00442575"
      },
      "execution_count": null,
      "outputs": [
        {
          "output_type": "stream",
          "name": "stdout",
          "text": [
            "Looking in indexes: https://pypi.org/simple, https://us-python.pkg.dev/colab-wheels/public/simple/\n",
            "Collecting pytorch-lightning==1.8.3.post1\n",
            "  Downloading pytorch_lightning-1.8.3.post1-py3-none-any.whl (798 kB)\n",
            "\u001b[K     |████████████████████████████████| 798 kB 4.8 MB/s \n",
            "\u001b[?25hCollecting pytorch-metric-learning==1.6.3\n",
            "  Downloading pytorch_metric_learning-1.6.3-py3-none-any.whl (111 kB)\n",
            "\u001b[K     |████████████████████████████████| 111 kB 66.0 MB/s \n",
            "\u001b[?25hRequirement already satisfied: torch==1.12.1 in /usr/local/lib/python3.8/dist-packages (from -r /content/FT-w2v2-ser/essential_reqs.txt (line 3)) (1.12.1+cu113)\n",
            "Requirement already satisfied: torchaudio==0.12.1 in /usr/local/lib/python3.8/dist-packages (from -r /content/FT-w2v2-ser/essential_reqs.txt (line 4)) (0.12.1+cu113)\n",
            "Collecting torchmetrics==0.11.0\n",
            "  Downloading torchmetrics-0.11.0-py3-none-any.whl (512 kB)\n",
            "\u001b[K     |████████████████████████████████| 512 kB 59.3 MB/s \n",
            "\u001b[?25hRequirement already satisfied: torchvision==0.13.1 in /usr/local/lib/python3.8/dist-packages (from -r /content/FT-w2v2-ser/essential_reqs.txt (line 6)) (0.13.1+cu113)\n",
            "Collecting matplotlib==3.6.2\n",
            "  Downloading matplotlib-3.6.2-cp38-cp38-manylinux_2_12_x86_64.manylinux2010_x86_64.whl (9.4 MB)\n",
            "\u001b[K     |████████████████████████████████| 9.4 MB 51.8 MB/s \n",
            "\u001b[?25hRequirement already satisfied: soundfile==0.11.0 in /usr/local/lib/python3.8/dist-packages (from -r /content/FT-w2v2-ser/essential_reqs.txt (line 8)) (0.11.0)\n",
            "Collecting librosa==0.9.2\n",
            "  Downloading librosa-0.9.2-py3-none-any.whl (214 kB)\n",
            "\u001b[K     |████████████████████████████████| 214 kB 61.1 MB/s \n",
            "\u001b[?25hCollecting seaborn==0.12.1\n",
            "  Downloading seaborn-0.12.1-py3-none-any.whl (288 kB)\n",
            "\u001b[K     |████████████████████████████████| 288 kB 61.5 MB/s \n",
            "\u001b[?25hCollecting transformers==4.25.1\n",
            "  Downloading transformers-4.25.1-py3-none-any.whl (5.8 MB)\n",
            "\u001b[K     |████████████████████████████████| 5.8 MB 57.3 MB/s \n",
            "\u001b[?25hCollecting fairseq==0.12.2\n",
            "  Downloading fairseq-0.12.2-cp38-cp38-manylinux_2_5_x86_64.manylinux1_x86_64.whl (11.0 MB)\n",
            "\u001b[K     |████████████████████████████████| 11.0 MB 64.0 MB/s \n",
            "\u001b[?25hRequirement already satisfied: fsspec[http]>2021.06.0 in /usr/local/lib/python3.8/dist-packages (from pytorch-lightning==1.8.3.post1->-r /content/FT-w2v2-ser/essential_reqs.txt (line 1)) (2022.11.0)\n",
            "Requirement already satisfied: typing-extensions>=4.0.0 in /usr/local/lib/python3.8/dist-packages (from pytorch-lightning==1.8.3.post1->-r /content/FT-w2v2-ser/essential_reqs.txt (line 1)) (4.1.1)\n",
            "Collecting tensorboardX>=2.2\n",
            "  Downloading tensorboardX-2.5.1-py2.py3-none-any.whl (125 kB)\n",
            "\u001b[K     |████████████████████████████████| 125 kB 68.7 MB/s \n",
            "\u001b[?25hRequirement already satisfied: tqdm>=4.57.0 in /usr/local/lib/python3.8/dist-packages (from pytorch-lightning==1.8.3.post1->-r /content/FT-w2v2-ser/essential_reqs.txt (line 1)) (4.64.1)\n",
            "Collecting lightning-utilities==0.3.*\n",
            "  Downloading lightning_utilities-0.3.0-py3-none-any.whl (15 kB)\n",
            "Requirement already satisfied: packaging>=17.0 in /usr/local/lib/python3.8/dist-packages (from pytorch-lightning==1.8.3.post1->-r /content/FT-w2v2-ser/essential_reqs.txt (line 1)) (21.3)\n",
            "Requirement already satisfied: PyYAML>=5.4 in /usr/local/lib/python3.8/dist-packages (from pytorch-lightning==1.8.3.post1->-r /content/FT-w2v2-ser/essential_reqs.txt (line 1)) (6.0)\n",
            "Requirement already satisfied: numpy>=1.17.2 in /usr/local/lib/python3.8/dist-packages (from pytorch-lightning==1.8.3.post1->-r /content/FT-w2v2-ser/essential_reqs.txt (line 1)) (1.21.6)\n",
            "Requirement already satisfied: scikit-learn in /usr/local/lib/python3.8/dist-packages (from pytorch-metric-learning==1.6.3->-r /content/FT-w2v2-ser/essential_reqs.txt (line 2)) (1.0.2)\n",
            "Requirement already satisfied: pillow!=8.3.*,>=5.3.0 in /usr/local/lib/python3.8/dist-packages (from torchvision==0.13.1->-r /content/FT-w2v2-ser/essential_reqs.txt (line 6)) (7.1.2)\n",
            "Requirement already satisfied: requests in /usr/local/lib/python3.8/dist-packages (from torchvision==0.13.1->-r /content/FT-w2v2-ser/essential_reqs.txt (line 6)) (2.23.0)\n",
            "Requirement already satisfied: python-dateutil>=2.7 in /usr/local/lib/python3.8/dist-packages (from matplotlib==3.6.2->-r /content/FT-w2v2-ser/essential_reqs.txt (line 7)) (2.8.2)\n",
            "Requirement already satisfied: pyparsing>=2.2.1 in /usr/local/lib/python3.8/dist-packages (from matplotlib==3.6.2->-r /content/FT-w2v2-ser/essential_reqs.txt (line 7)) (3.0.9)\n",
            "Requirement already satisfied: kiwisolver>=1.0.1 in /usr/local/lib/python3.8/dist-packages (from matplotlib==3.6.2->-r /content/FT-w2v2-ser/essential_reqs.txt (line 7)) (1.4.4)\n",
            "Collecting contourpy>=1.0.1\n",
            "  Downloading contourpy-1.0.6-cp38-cp38-manylinux_2_17_x86_64.manylinux2014_x86_64.whl (295 kB)\n",
            "\u001b[K     |████████████████████████████████| 295 kB 30.2 MB/s \n",
            "\u001b[?25hCollecting fonttools>=4.22.0\n",
            "  Downloading fonttools-4.38.0-py3-none-any.whl (965 kB)\n",
            "\u001b[K     |████████████████████████████████| 965 kB 71.9 MB/s \n",
            "\u001b[?25hRequirement already satisfied: cycler>=0.10 in /usr/local/lib/python3.8/dist-packages (from matplotlib==3.6.2->-r /content/FT-w2v2-ser/essential_reqs.txt (line 7)) (0.11.0)\n",
            "Requirement already satisfied: cffi>=1.0 in /usr/local/lib/python3.8/dist-packages (from soundfile==0.11.0->-r /content/FT-w2v2-ser/essential_reqs.txt (line 8)) (1.15.1)\n",
            "Requirement already satisfied: numba>=0.45.1 in /usr/local/lib/python3.8/dist-packages (from librosa==0.9.2->-r /content/FT-w2v2-ser/essential_reqs.txt (line 9)) (0.56.4)\n",
            "Requirement already satisfied: decorator>=4.0.10 in /usr/local/lib/python3.8/dist-packages (from librosa==0.9.2->-r /content/FT-w2v2-ser/essential_reqs.txt (line 9)) (4.4.2)\n",
            "Requirement already satisfied: resampy>=0.2.2 in /usr/local/lib/python3.8/dist-packages (from librosa==0.9.2->-r /content/FT-w2v2-ser/essential_reqs.txt (line 9)) (0.4.2)\n",
            "Requirement already satisfied: joblib>=0.14 in /usr/local/lib/python3.8/dist-packages (from librosa==0.9.2->-r /content/FT-w2v2-ser/essential_reqs.txt (line 9)) (1.2.0)\n",
            "Requirement already satisfied: scipy>=1.2.0 in /usr/local/lib/python3.8/dist-packages (from librosa==0.9.2->-r /content/FT-w2v2-ser/essential_reqs.txt (line 9)) (1.7.3)\n",
            "Requirement already satisfied: pooch>=1.0 in /usr/local/lib/python3.8/dist-packages (from librosa==0.9.2->-r /content/FT-w2v2-ser/essential_reqs.txt (line 9)) (1.6.0)\n",
            "Requirement already satisfied: audioread>=2.1.9 in /usr/local/lib/python3.8/dist-packages (from librosa==0.9.2->-r /content/FT-w2v2-ser/essential_reqs.txt (line 9)) (3.0.0)\n",
            "Requirement already satisfied: pandas>=0.25 in /usr/local/lib/python3.8/dist-packages (from seaborn==0.12.1->-r /content/FT-w2v2-ser/essential_reqs.txt (line 10)) (1.3.5)\n",
            "Collecting huggingface-hub<1.0,>=0.10.0\n",
            "  Downloading huggingface_hub-0.11.1-py3-none-any.whl (182 kB)\n",
            "\u001b[K     |████████████████████████████████| 182 kB 75.7 MB/s \n",
            "\u001b[?25hRequirement already satisfied: regex!=2019.12.17 in /usr/local/lib/python3.8/dist-packages (from transformers==4.25.1->-r /content/FT-w2v2-ser/essential_reqs.txt (line 11)) (2022.6.2)\n",
            "Requirement already satisfied: filelock in /usr/local/lib/python3.8/dist-packages (from transformers==4.25.1->-r /content/FT-w2v2-ser/essential_reqs.txt (line 11)) (3.8.0)\n",
            "Collecting tokenizers!=0.11.3,<0.14,>=0.11.1\n",
            "  Downloading tokenizers-0.13.2-cp38-cp38-manylinux_2_17_x86_64.manylinux2014_x86_64.whl (7.6 MB)\n",
            "\u001b[K     |████████████████████████████████| 7.6 MB 50.2 MB/s \n",
            "\u001b[?25hRequirement already satisfied: cython in /usr/local/lib/python3.8/dist-packages (from fairseq==0.12.2->-r /content/FT-w2v2-ser/essential_reqs.txt (line 12)) (0.29.32)\n",
            "Collecting omegaconf<2.1\n",
            "  Downloading omegaconf-2.0.6-py3-none-any.whl (36 kB)\n",
            "Collecting bitarray\n",
            "  Downloading bitarray-2.6.0-cp38-cp38-manylinux_2_17_x86_64.manylinux2014_x86_64.whl (241 kB)\n",
            "\u001b[K     |████████████████████████████████| 241 kB 79.6 MB/s \n",
            "\u001b[?25hCollecting sacrebleu>=1.4.12\n",
            "  Downloading sacrebleu-2.3.1-py3-none-any.whl (118 kB)\n",
            "\u001b[K     |████████████████████████████████| 118 kB 78.8 MB/s \n",
            "\u001b[?25hCollecting hydra-core<1.1,>=1.0.7\n",
            "  Downloading hydra_core-1.0.7-py3-none-any.whl (123 kB)\n",
            "\u001b[K     |████████████████████████████████| 123 kB 70.4 MB/s \n",
            "\u001b[?25hCollecting fire\n",
            "  Downloading fire-0.4.0.tar.gz (87 kB)\n",
            "\u001b[K     |████████████████████████████████| 87 kB 7.4 MB/s \n",
            "\u001b[?25hRequirement already satisfied: pycparser in /usr/local/lib/python3.8/dist-packages (from cffi>=1.0->soundfile==0.11.0->-r /content/FT-w2v2-ser/essential_reqs.txt (line 8)) (2.21)\n",
            "Requirement already satisfied: aiohttp!=4.0.0a0,!=4.0.0a1 in /usr/local/lib/python3.8/dist-packages (from fsspec[http]>2021.06.0->pytorch-lightning==1.8.3.post1->-r /content/FT-w2v2-ser/essential_reqs.txt (line 1)) (3.8.3)\n",
            "Requirement already satisfied: aiosignal>=1.1.2 in /usr/local/lib/python3.8/dist-packages (from aiohttp!=4.0.0a0,!=4.0.0a1->fsspec[http]>2021.06.0->pytorch-lightning==1.8.3.post1->-r /content/FT-w2v2-ser/essential_reqs.txt (line 1)) (1.3.1)\n",
            "Requirement already satisfied: frozenlist>=1.1.1 in /usr/local/lib/python3.8/dist-packages (from aiohttp!=4.0.0a0,!=4.0.0a1->fsspec[http]>2021.06.0->pytorch-lightning==1.8.3.post1->-r /content/FT-w2v2-ser/essential_reqs.txt (line 1)) (1.3.3)\n",
            "Requirement already satisfied: multidict<7.0,>=4.5 in /usr/local/lib/python3.8/dist-packages (from aiohttp!=4.0.0a0,!=4.0.0a1->fsspec[http]>2021.06.0->pytorch-lightning==1.8.3.post1->-r /content/FT-w2v2-ser/essential_reqs.txt (line 1)) (6.0.2)\n",
            "Requirement already satisfied: attrs>=17.3.0 in /usr/local/lib/python3.8/dist-packages (from aiohttp!=4.0.0a0,!=4.0.0a1->fsspec[http]>2021.06.0->pytorch-lightning==1.8.3.post1->-r /content/FT-w2v2-ser/essential_reqs.txt (line 1)) (22.1.0)\n",
            "Requirement already satisfied: async-timeout<5.0,>=4.0.0a3 in /usr/local/lib/python3.8/dist-packages (from aiohttp!=4.0.0a0,!=4.0.0a1->fsspec[http]>2021.06.0->pytorch-lightning==1.8.3.post1->-r /content/FT-w2v2-ser/essential_reqs.txt (line 1)) (4.0.2)\n",
            "Requirement already satisfied: yarl<2.0,>=1.0 in /usr/local/lib/python3.8/dist-packages (from aiohttp!=4.0.0a0,!=4.0.0a1->fsspec[http]>2021.06.0->pytorch-lightning==1.8.3.post1->-r /content/FT-w2v2-ser/essential_reqs.txt (line 1)) (1.8.1)\n",
            "Requirement already satisfied: charset-normalizer<3.0,>=2.0 in /usr/local/lib/python3.8/dist-packages (from aiohttp!=4.0.0a0,!=4.0.0a1->fsspec[http]>2021.06.0->pytorch-lightning==1.8.3.post1->-r /content/FT-w2v2-ser/essential_reqs.txt (line 1)) (2.1.1)\n",
            "Collecting antlr4-python3-runtime==4.8\n",
            "  Downloading antlr4-python3-runtime-4.8.tar.gz (112 kB)\n",
            "\u001b[K     |████████████████████████████████| 112 kB 77.9 MB/s \n",
            "\u001b[?25hRequirement already satisfied: importlib-resources in /usr/local/lib/python3.8/dist-packages (from hydra-core<1.1,>=1.0.7->fairseq==0.12.2->-r /content/FT-w2v2-ser/essential_reqs.txt (line 12)) (5.10.0)\n",
            "Requirement already satisfied: setuptools in /usr/local/lib/python3.8/dist-packages (from numba>=0.45.1->librosa==0.9.2->-r /content/FT-w2v2-ser/essential_reqs.txt (line 9)) (57.4.0)\n",
            "Requirement already satisfied: llvmlite<0.40,>=0.39.0dev0 in /usr/local/lib/python3.8/dist-packages (from numba>=0.45.1->librosa==0.9.2->-r /content/FT-w2v2-ser/essential_reqs.txt (line 9)) (0.39.1)\n",
            "Requirement already satisfied: importlib-metadata in /usr/local/lib/python3.8/dist-packages (from numba>=0.45.1->librosa==0.9.2->-r /content/FT-w2v2-ser/essential_reqs.txt (line 9)) (4.13.0)\n",
            "Requirement already satisfied: pytz>=2017.3 in /usr/local/lib/python3.8/dist-packages (from pandas>=0.25->seaborn==0.12.1->-r /content/FT-w2v2-ser/essential_reqs.txt (line 10)) (2022.6)\n",
            "Requirement already satisfied: appdirs>=1.3.0 in /usr/local/lib/python3.8/dist-packages (from pooch>=1.0->librosa==0.9.2->-r /content/FT-w2v2-ser/essential_reqs.txt (line 9)) (1.4.4)\n",
            "Requirement already satisfied: six>=1.5 in /usr/local/lib/python3.8/dist-packages (from python-dateutil>=2.7->matplotlib==3.6.2->-r /content/FT-w2v2-ser/essential_reqs.txt (line 7)) (1.15.0)\n",
            "Requirement already satisfied: idna<3,>=2.5 in /usr/local/lib/python3.8/dist-packages (from requests->torchvision==0.13.1->-r /content/FT-w2v2-ser/essential_reqs.txt (line 6)) (2.10)\n",
            "Requirement already satisfied: certifi>=2017.4.17 in /usr/local/lib/python3.8/dist-packages (from requests->torchvision==0.13.1->-r /content/FT-w2v2-ser/essential_reqs.txt (line 6)) (2022.9.24)\n",
            "Requirement already satisfied: chardet<4,>=3.0.2 in /usr/local/lib/python3.8/dist-packages (from requests->torchvision==0.13.1->-r /content/FT-w2v2-ser/essential_reqs.txt (line 6)) (3.0.4)\n",
            "Requirement already satisfied: urllib3!=1.25.0,!=1.25.1,<1.26,>=1.21.1 in /usr/local/lib/python3.8/dist-packages (from requests->torchvision==0.13.1->-r /content/FT-w2v2-ser/essential_reqs.txt (line 6)) (1.24.3)\n",
            "Requirement already satisfied: tabulate>=0.8.9 in /usr/local/lib/python3.8/dist-packages (from sacrebleu>=1.4.12->fairseq==0.12.2->-r /content/FT-w2v2-ser/essential_reqs.txt (line 12)) (0.8.10)\n",
            "Collecting colorama\n",
            "  Downloading colorama-0.4.6-py2.py3-none-any.whl (25 kB)\n",
            "Collecting portalocker\n",
            "  Downloading portalocker-2.6.0-py2.py3-none-any.whl (15 kB)\n",
            "Requirement already satisfied: lxml in /usr/local/lib/python3.8/dist-packages (from sacrebleu>=1.4.12->fairseq==0.12.2->-r /content/FT-w2v2-ser/essential_reqs.txt (line 12)) (4.9.1)\n",
            "Requirement already satisfied: threadpoolctl>=2.0.0 in /usr/local/lib/python3.8/dist-packages (from scikit-learn->pytorch-metric-learning==1.6.3->-r /content/FT-w2v2-ser/essential_reqs.txt (line 2)) (3.1.0)\n",
            "Requirement already satisfied: protobuf<=3.20.1,>=3.8.0 in /usr/local/lib/python3.8/dist-packages (from tensorboardX>=2.2->pytorch-lightning==1.8.3.post1->-r /content/FT-w2v2-ser/essential_reqs.txt (line 1)) (3.19.6)\n",
            "Requirement already satisfied: termcolor in /usr/local/lib/python3.8/dist-packages (from fire->lightning-utilities==0.3.*->pytorch-lightning==1.8.3.post1->-r /content/FT-w2v2-ser/essential_reqs.txt (line 1)) (2.1.1)\n",
            "Requirement already satisfied: zipp>=0.5 in /usr/local/lib/python3.8/dist-packages (from importlib-metadata->numba>=0.45.1->librosa==0.9.2->-r /content/FT-w2v2-ser/essential_reqs.txt (line 9)) (3.10.0)\n",
            "Building wheels for collected packages: antlr4-python3-runtime, fire\n",
            "  Building wheel for antlr4-python3-runtime (setup.py) ... \u001b[?25l\u001b[?25hdone\n",
            "  Created wheel for antlr4-python3-runtime: filename=antlr4_python3_runtime-4.8-py3-none-any.whl size=141231 sha256=775c18de2faf6070c6a135b5fdb4ebdf1e1cb899219cc42b54943d00d3c122fe\n",
            "  Stored in directory: /root/.cache/pip/wheels/c8/d0/ab/d43c02eaddc5b9004db86950802442ad9a26f279c619e28da0\n",
            "  Building wheel for fire (setup.py) ... \u001b[?25l\u001b[?25hdone\n",
            "  Created wheel for fire: filename=fire-0.4.0-py2.py3-none-any.whl size=115943 sha256=6dc5e4a5466a14d027a4fbb9432b79c0376f7b43627d5eb14a93d180ba18525b\n",
            "  Stored in directory: /root/.cache/pip/wheels/1f/10/06/2a990ee4d73a8479fe2922445e8a876d38cfbfed052284c6a1\n",
            "Successfully built antlr4-python3-runtime fire\n",
            "Installing collected packages: portalocker, omegaconf, fonttools, fire, contourpy, colorama, antlr4-python3-runtime, torchmetrics, tokenizers, tensorboardX, sacrebleu, matplotlib, lightning-utilities, hydra-core, huggingface-hub, bitarray, transformers, seaborn, pytorch-metric-learning, pytorch-lightning, librosa, fairseq\n",
            "  Attempting uninstall: matplotlib\n",
            "    Found existing installation: matplotlib 3.2.2\n",
            "    Uninstalling matplotlib-3.2.2:\n",
            "      Successfully uninstalled matplotlib-3.2.2\n",
            "  Attempting uninstall: seaborn\n",
            "    Found existing installation: seaborn 0.11.2\n",
            "    Uninstalling seaborn-0.11.2:\n",
            "      Successfully uninstalled seaborn-0.11.2\n",
            "  Attempting uninstall: librosa\n",
            "    Found existing installation: librosa 0.8.1\n",
            "    Uninstalling librosa-0.8.1:\n",
            "      Successfully uninstalled librosa-0.8.1\n",
            "Successfully installed antlr4-python3-runtime-4.8 bitarray-2.6.0 colorama-0.4.6 contourpy-1.0.6 fairseq-0.12.2 fire-0.4.0 fonttools-4.38.0 huggingface-hub-0.11.1 hydra-core-1.0.7 librosa-0.9.2 lightning-utilities-0.3.0 matplotlib-3.6.2 omegaconf-2.0.6 portalocker-2.6.0 pytorch-lightning-1.8.3.post1 pytorch-metric-learning-1.6.3 sacrebleu-2.3.1 seaborn-0.12.1 tensorboardX-2.5.1 tokenizers-0.13.2 torchmetrics-0.11.0 transformers-4.25.1\n"
          ]
        },
        {
          "output_type": "display_data",
          "data": {
            "application/vnd.colab-display-data+json": {
              "pip_warning": {
                "packages": [
                  "matplotlib",
                  "mpl_toolkits"
                ]
              }
            }
          },
          "metadata": {}
        }
      ]
    },
    {
      "cell_type": "code",
      "source": [
        "from google.colab import drive # Link your drive if you are a colab user\n",
        "drive.mount('/content/drive') "
      ],
      "metadata": {
        "colab": {
          "base_uri": "https://localhost:8080/"
        },
        "id": "NP9FLzAysPEv",
        "outputId": "889b4a39-5cb6-46cd-ac28-4f842cad6332"
      },
      "execution_count": null,
      "outputs": [
        {
          "output_type": "stream",
          "name": "stdout",
          "text": [
            "Mounted at /content/drive\n"
          ]
        }
      ]
    },
    {
      "cell_type": "code",
      "source": [
        "!ls\n",
        "%cd FT-w2v2-ser/\n",
        "!pip install transformers\n",
        "!pip install fairseq\n",
        "!sh /content/FT-w2v2-ser/run_contrastive_train.sh"
      ],
      "metadata": {
        "id": "zQtvKPSKt_9w",
        "colab": {
          "base_uri": "https://localhost:8080/"
        },
        "outputId": "653e9f2e-14e3-44dc-c98f-9a2d02c7e43f"
      },
      "execution_count": null,
      "outputs": [
        {
          "output_type": "stream",
          "name": "stdout",
          "text": [
            "drive  FT-w2v2-ser  sample_data\n",
            "/content/FT-w2v2-ser\n",
            "Looking in indexes: https://pypi.org/simple, https://us-python.pkg.dev/colab-wheels/public/simple/\n",
            "Requirement already satisfied: transformers in /usr/local/lib/python3.8/dist-packages (4.25.1)\n",
            "Requirement already satisfied: regex!=2019.12.17 in /usr/local/lib/python3.8/dist-packages (from transformers) (2022.6.2)\n",
            "Requirement already satisfied: tokenizers!=0.11.3,<0.14,>=0.11.1 in /usr/local/lib/python3.8/dist-packages (from transformers) (0.13.2)\n",
            "Requirement already satisfied: tqdm>=4.27 in /usr/local/lib/python3.8/dist-packages (from transformers) (4.64.1)\n",
            "Requirement already satisfied: requests in /usr/local/lib/python3.8/dist-packages (from transformers) (2.23.0)\n",
            "Requirement already satisfied: filelock in /usr/local/lib/python3.8/dist-packages (from transformers) (3.8.0)\n",
            "Requirement already satisfied: huggingface-hub<1.0,>=0.10.0 in /usr/local/lib/python3.8/dist-packages (from transformers) (0.11.1)\n",
            "Requirement already satisfied: pyyaml>=5.1 in /usr/local/lib/python3.8/dist-packages (from transformers) (6.0)\n",
            "Requirement already satisfied: numpy>=1.17 in /usr/local/lib/python3.8/dist-packages (from transformers) (1.21.6)\n",
            "Requirement already satisfied: packaging>=20.0 in /usr/local/lib/python3.8/dist-packages (from transformers) (21.3)\n",
            "Requirement already satisfied: typing-extensions>=3.7.4.3 in /usr/local/lib/python3.8/dist-packages (from huggingface-hub<1.0,>=0.10.0->transformers) (4.1.1)\n",
            "Requirement already satisfied: pyparsing!=3.0.5,>=2.0.2 in /usr/local/lib/python3.8/dist-packages (from packaging>=20.0->transformers) (3.0.9)\n",
            "Requirement already satisfied: certifi>=2017.4.17 in /usr/local/lib/python3.8/dist-packages (from requests->transformers) (2022.9.24)\n",
            "Requirement already satisfied: idna<3,>=2.5 in /usr/local/lib/python3.8/dist-packages (from requests->transformers) (2.10)\n",
            "Requirement already satisfied: urllib3!=1.25.0,!=1.25.1,<1.26,>=1.21.1 in /usr/local/lib/python3.8/dist-packages (from requests->transformers) (1.24.3)\n",
            "Requirement already satisfied: chardet<4,>=3.0.2 in /usr/local/lib/python3.8/dist-packages (from requests->transformers) (3.0.4)\n",
            "Looking in indexes: https://pypi.org/simple, https://us-python.pkg.dev/colab-wheels/public/simple/\n",
            "Requirement already satisfied: fairseq in /usr/local/lib/python3.8/dist-packages (0.12.2)\n",
            "Requirement already satisfied: regex in /usr/local/lib/python3.8/dist-packages (from fairseq) (2022.6.2)\n",
            "Requirement already satisfied: tqdm in /usr/local/lib/python3.8/dist-packages (from fairseq) (4.64.1)\n",
            "Requirement already satisfied: torch in /usr/local/lib/python3.8/dist-packages (from fairseq) (1.12.1+cu113)\n",
            "Requirement already satisfied: cython in /usr/local/lib/python3.8/dist-packages (from fairseq) (0.29.32)\n",
            "Requirement already satisfied: sacrebleu>=1.4.12 in /usr/local/lib/python3.8/dist-packages (from fairseq) (2.3.1)\n",
            "Requirement already satisfied: bitarray in /usr/local/lib/python3.8/dist-packages (from fairseq) (2.6.0)\n",
            "Requirement already satisfied: torchaudio>=0.8.0 in /usr/local/lib/python3.8/dist-packages (from fairseq) (0.12.1+cu113)\n",
            "Requirement already satisfied: omegaconf<2.1 in /usr/local/lib/python3.8/dist-packages (from fairseq) (2.0.6)\n",
            "Requirement already satisfied: cffi in /usr/local/lib/python3.8/dist-packages (from fairseq) (1.15.1)\n",
            "Requirement already satisfied: hydra-core<1.1,>=1.0.7 in /usr/local/lib/python3.8/dist-packages (from fairseq) (1.0.7)\n",
            "Requirement already satisfied: numpy in /usr/local/lib/python3.8/dist-packages (from fairseq) (1.21.6)\n",
            "Requirement already satisfied: antlr4-python3-runtime==4.8 in /usr/local/lib/python3.8/dist-packages (from hydra-core<1.1,>=1.0.7->fairseq) (4.8)\n",
            "Requirement already satisfied: importlib-resources in /usr/local/lib/python3.8/dist-packages (from hydra-core<1.1,>=1.0.7->fairseq) (5.10.0)\n",
            "Requirement already satisfied: typing-extensions in /usr/local/lib/python3.8/dist-packages (from omegaconf<2.1->fairseq) (4.1.1)\n",
            "Requirement already satisfied: PyYAML>=5.1.* in /usr/local/lib/python3.8/dist-packages (from omegaconf<2.1->fairseq) (6.0)\n",
            "Requirement already satisfied: lxml in /usr/local/lib/python3.8/dist-packages (from sacrebleu>=1.4.12->fairseq) (4.9.1)\n",
            "Requirement already satisfied: colorama in /usr/local/lib/python3.8/dist-packages (from sacrebleu>=1.4.12->fairseq) (0.4.6)\n",
            "Requirement already satisfied: portalocker in /usr/local/lib/python3.8/dist-packages (from sacrebleu>=1.4.12->fairseq) (2.6.0)\n",
            "Requirement already satisfied: tabulate>=0.8.9 in /usr/local/lib/python3.8/dist-packages (from sacrebleu>=1.4.12->fairseq) (0.8.10)\n",
            "Requirement already satisfied: pycparser in /usr/local/lib/python3.8/dist-packages (from cffi->fairseq) (2.21)\n",
            "Requirement already satisfied: zipp>=3.1.0 in /usr/local/lib/python3.8/dist-packages (from importlib-resources->hydra-core<1.1,>=1.0.7->fairseq) (3.10.0)\n",
            "+ conda shell.bash hook\n",
            "/content/FT-w2v2-ser/run_contrastive_train.sh: 4: /content/FT-w2v2-ser/run_contrastive_train.sh: conda: not found\n",
            "+ eval \n",
            "+ conda activate /ocean/projects/cis220078p/chsieh1/miniconda3/envs/ser\n",
            "/content/FT-w2v2-ser/run_contrastive_train.sh: 8: /content/FT-w2v2-ser/run_contrastive_train.sh: conda: not found\n",
            "+ . paths.sh\n",
            "/content/FT-w2v2-ser/run_contrastive_train.sh: 10: .: paths.sh: not found\n"
          ]
        }
      ]
    },
    {
      "cell_type": "code",
      "source": [
        "%cd Dataset/IEMOCAP/\n"
      ],
      "metadata": {
        "colab": {
          "base_uri": "https://localhost:8080/"
        },
        "id": "gxoDuvp_tBno",
        "outputId": "f1ccc3a2-e192-496e-9565-9f181e90ee1e"
      },
      "execution_count": null,
      "outputs": [
        {
          "output_type": "stream",
          "name": "stdout",
          "text": [
            "/content/FT-w2v2-ser/Dataset/IEMOCAP\n"
          ]
        }
      ]
    },
    {
      "cell_type": "code",
      "source": [
        "!mkdir ESD"
      ],
      "metadata": {
        "id": "1nK-jSefulKP"
      },
      "execution_count": null,
      "outputs": []
    },
    {
      "cell_type": "code",
      "source": [
        "!ln -s /content/drive/MyDrive/LJSpeech/ESD/EmotionalSpeechDataset/00* ESD"
      ],
      "metadata": {
        "id": "qIxALBxxuNqy"
      },
      "execution_count": null,
      "outputs": []
    },
    {
      "cell_type": "code",
      "source": [
        "!ls"
      ],
      "metadata": {
        "colab": {
          "base_uri": "https://localhost:8080/"
        },
        "id": "NyeGh_oyuyWh",
        "outputId": "09007ae9-bec7-4836-fcbf-3e5ece6f32c6"
      },
      "execution_count": null,
      "outputs": [
        {
          "output_type": "stream",
          "name": "stdout",
          "text": [
            " ESD\t\t\t\t  gen_meta_label.py   make_16k.py\n",
            " generate_labels_sessionwise.py  'Icon'$'\\r'\n"
          ]
        }
      ]
    },
    {
      "cell_type": "code",
      "source": [
        "\n",
        "!python generate_labels_sessionwise.py ESD"
      ],
      "metadata": {
        "id": "KnrS91oMtib_"
      },
      "execution_count": null,
      "outputs": []
    },
    {
      "cell_type": "code",
      "source": [
        "%cd /content/FT-w2v2-ser"
      ],
      "metadata": {
        "colab": {
          "base_uri": "https://localhost:8080/"
        },
        "id": "Jua__1dCvJW2",
        "outputId": "0353ba4f-f382-4271-8603-92315c5e8250"
      },
      "execution_count": null,
      "outputs": [
        {
          "output_type": "stream",
          "name": "stdout",
          "text": [
            "/content/FT-w2v2-ser\n"
          ]
        }
      ]
    },
    {
      "cell_type": "code",
      "source": [
        "RUN_PATH = '/content/drive/MyDrive/IDLProject/run_1'\n",
        "OUTPUT_PATH = '/content/drive/MyDrive/IDLProject/outputs'"
      ],
      "metadata": {
        "id": "sFagot9OvT-F"
      },
      "execution_count": null,
      "outputs": []
    },
    {
      "cell_type": "code",
      "source": [
        "!python run_downstream_contrastive.py --precision 16 \\\n",
        "                                              --datadir /content/FT-w2v2-ser/Dataset/IEMOCAP \\\n",
        "                                              --labelpath /content/FT-w2v2-ser/Dataset/IEMOCAP/ESD/labels.json \\\n",
        "                                              --saving_path $RUN_PATH \\\n",
        "                                              --output_path $OUTPUT_PATH \\\n",
        "                                              --nworkers 4 \\\n",
        "                                              --batch_size 8 \\\n",
        "\t\t\t\t\t--xent_alpha 0.5"
      ],
      "metadata": {
        "colab": {
          "base_uri": "https://localhost:8080/"
        },
        "id": "j_ecmjxprA7K",
        "outputId": "3014056d-6247-47d8-a47c-b323f4f231b5"
      },
      "execution_count": null,
      "outputs": [
        {
          "output_type": "stream",
          "name": "stdout",
          "text": [
            "/content/FT-w2v2-ser\n",
            "Downloading: 100% 213/213 [00:00<00:00, 143kB/s]\n",
            "/usr/local/lib/python3.8/dist-packages/pytorch_lightning/core/lightning.py:22: LightningDeprecationWarning: pytorch_lightning.core.lightning.LightningModule has been deprecated in v1.7 and will be removed in v1.9. Use the equivalent class from the pytorch_lightning.core.module.LightningModule class instead.\n",
            "  rank_zero_deprecation(\n",
            "Statistics of training splits:\n",
            "----Involved Emotions----\n",
            "angry: 3000 examples\n",
            "happy: 3000 examples\n",
            "neutral: 3000 examples\n",
            "sad: 3000 examples\n",
            "surprise: 3000 examples\n",
            "Total 15000 examples\n",
            "----Examples Involved----\n",
            "\n",
            "Statistics of validation splits:\n",
            "----Involved Emotions----\n",
            "angry: 200 examples\n",
            "happy: 200 examples\n",
            "neutral: 200 examples\n",
            "sad: 200 examples\n",
            "surprise: 200 examples\n",
            "Total 1000 examples\n",
            "----Examples Involved----\n",
            "\n",
            "Statistics of testing splits:\n",
            "----Involved Emotions----\n",
            "angry: 300 examples\n",
            "happy: 300 examples\n",
            "neutral: 300 examples\n",
            "sad: 300 examples\n",
            "surprise: 300 examples\n",
            "Total 1500 examples\n",
            "----Examples Involved----\n",
            "\n",
            "Downloading: 100% 1.39k/1.39k [00:00<00:00, 1.18MB/s]\n",
            "Downloading: 100% 378M/378M [00:04<00:00, 93.5MB/s]\n",
            "Weigh losses by prior distribution of each class: tensor([0.2000, 0.2000, 0.2000, 0.2000, 0.2000]).\n",
            "GPU available: True (cuda), used: True\n",
            "TPU available: False, using: 0 TPU cores\n",
            "IPU available: False, using: 0 IPUs\n",
            "HPU available: False, using: 0 HPUs\n",
            "LOCAL_RANK: 0 - CUDA_VISIBLE_DEVICES: [0]\n",
            "\n",
            "  | Name             | Type                     | Params\n",
            "--------------------------------------------------------------\n",
            "0 | model            | PretrainedEmoFeatureHead | 94.4 M\n",
            "1 | xent_criterion   | CrossEntropyLoss         | 0     \n",
            "2 | metric_criterion | ContrastiveLoss          | 0     \n",
            "--------------------------------------------------------------\n",
            "94.4 M    Trainable params\n",
            "0         Non-trainable params\n",
            "94.4 M    Total params\n",
            "377.502   Total estimated model params size (MB)\n",
            "Sanity Checking: 0it [00:00, ?it/s]/usr/local/lib/python3.8/dist-packages/torch/utils/data/dataloader.py:563: UserWarning: This DataLoader will create 4 worker processes in total. Our suggested max number of worker in current system is 2, which is smaller than what this DataLoader is going to create. Please be aware that excessive worker creation might get DataLoader running slow or even freeze, lower the worker number to avoid potential slowness/freeze if necessary.\n",
            "  warnings.warn(_create_warning_msg(\n",
            "Sanity Checking DataLoader 0:   0% 0/2 [00:00<?, ?it/s]/content/FT-w2v2-ser/modules/FeatureFuser.py:302: UserWarning: __floordiv__ is deprecated, and its behavior will change in a future version of pytorch. It currently rounds toward 0 (like the 'trunc' function NOT 'floor'). This results in incorrect rounding for negative values. To keep the current behavior, use torch.div(a, b, rounding_mode='trunc'), or for actual floor division, use torch.div(a, b, rounding_mode='floor').\n",
            "  return (input_length - kernel_size) // stride + 1\n",
            "/usr/local/lib/python3.8/dist-packages/pytorch_lightning/utilities/data.py:85: UserWarning: Trying to infer the `batch_size` from an ambiguous collection. The batch size we found is 8. To avoid any miscalculations, use `self.log(..., batch_size=batch_size)`.\n",
            "  warning_cache.warn(\n",
            "Sanity Checking DataLoader 0: 100% 2/2 [00:05<00:00,  2.95s/it]0.1\n",
            "Epoch 0:  12% 234/2000 [02:42<20:26,  1.44it/s, loss=0.672, v_num=8, xent_loss_step=0.947, metric_loss_step=0.560, total_train_loss_step=0.753]/usr/local/lib/python3.8/dist-packages/pytorch_lightning/trainer/call.py:48: UserWarning: Detected KeyboardInterrupt, attempting graceful shutdown...\n",
            "  rank_zero_warn(\"Detected KeyboardInterrupt, attempting graceful shutdown...\")\n",
            "LOCAL_RANK: 0 - CUDA_VISIBLE_DEVICES: [0]\n",
            "Testing DataLoader 0: 100% 1500/1500 [02:04<00:00, 12.09it/s]++++ Classification Metrics ++++\n",
            "                  UAR: 0.4420\n",
            "                  WAR: 0.4420\n",
            "                  macroF1: 0.4119\n",
            "                  microF1: 0.5078\n",
            "Testing DataLoader 0: 100% 1500/1500 [02:04<00:00, 12.09it/s]\n",
            "────────────────────────────────────────────────────────────────────────────────────────────────────────────────────────\n",
            "       Test metric             DataLoader 0\n",
            "────────────────────────────────────────────────────────────────────────────────────────────────────────────────────────\n",
            "        test_UAR            0.44200000166893005\n",
            "        test_WAR            0.44200000166893005\n",
            "      test_macroF1          0.41185760498046875\n",
            "      test_microF1          0.5077858454958379\n",
            "────────────────────────────────────────────────────────────────────────────────────────────────────────────────────────\n",
            "+++ SUMMARY +++\n",
            "Mean UAR [%]: 44.20\n",
            "Std. UAR [%]: 0.00\n",
            "Mean WAR [%]: 44.20\n",
            "Std. WAR [%]: 0.00\n",
            "Mean macroF1 [%]: 41.19\n",
            "Std. macroF1 [%]: 0.00\n",
            "Mean microF1 [%]: 50.78\n",
            "Std. microF1 [%]: 0.00\n",
            "[[139.  18.  10. 130.   3.]\n",
            " [  9.  67.   0. 215.   9.]\n",
            " [  0.   0.   8. 292.   0.]\n",
            " [  0.   0.   0. 300.   0.]\n",
            " [  4.  83.   0.  64. 149.]]\n",
            "Saved figure to /content/drive/MyDrive/IDLProject/run_1/confmat.png.\n",
            "Traceback (most recent call last):\n",
            "  File \"run_downstream_contrastive.py\", line 95, in <module>\n",
            "    main()\n",
            "  File \"run_downstream_contrastive.py\", line 83, in main\n",
            "    trainer.checkpoint_connector.restore_model_weights(checkpoint_callback.best_model_path)\n",
            "AttributeError: 'Trainer' object has no attribute 'checkpoint_connector'\n",
            "Epoch 0:  12%|█▏        | 234/2000 [04:49<36:26,  1.24s/it, loss=0.672, v_num=8, xent_loss_step=0.947, metric_loss_step=0.560, total_train_loss_step=0.753]\n"
          ]
        }
      ]
    },
    {
      "cell_type": "code",
      "source": [],
      "metadata": {
        "id": "NuAdQRFfLW8V"
      },
      "execution_count": null,
      "outputs": []
    },
    {
      "cell_type": "code",
      "source": [],
      "metadata": {
        "id": "xzFxAozypR9f"
      },
      "execution_count": null,
      "outputs": []
    }
  ]
}